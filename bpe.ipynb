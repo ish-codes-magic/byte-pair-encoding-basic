{
 "cells": [
  {
   "cell_type": "markdown",
   "metadata": {
    "id": "4GKHx3uyIaFO"
   },
   "source": [
    "# Importing libraries"
   ]
  },
  {
   "cell_type": "code",
   "execution_count": 1,
   "metadata": {
    "id": "bzdKH1HU_prt"
   },
   "outputs": [],
   "source": [
    "import re\n",
    "from collections import defaultdict\n"
   ]
  },
  {
   "cell_type": "markdown",
   "metadata": {
    "id": "biMA7WReJDV_"
   },
   "source": [
    "## Return a tuple with all the vocubulary and the corresponding frequency countof each vocubulary"
   ]
  },
  {
   "cell_type": "code",
   "execution_count": 2,
   "metadata": {
    "id": "iL7k3SgLC7_F"
   },
   "outputs": [],
   "source": [
    "def get_stats(vocab):\n",
    "    \"\"\"\n",
    "    Given a vocabulary (dictionary mapping words to frequency counts), returns a\n",
    "    dictionary of tuples representing the frequency count of pairs of characters\n",
    "    in the vocabulary.\n",
    "    \"\"\"\n",
    "    pairs = defaultdict(int)\n",
    "    for word, freq in vocab.items():\n",
    "        symbols = word.split()\n",
    "        for i in range(len(symbols)-1):\n",
    "            pairs[symbols[i],symbols[i+1]] += freq\n",
    "    return pairs"
   ]
  },
  {
   "cell_type": "markdown",
   "metadata": {
    "id": "dX2seyK4KEPV"
   },
   "source": [
    "## Merging two different characters in the vocubulary together"
   ]
  },
  {
   "cell_type": "code",
   "execution_count": 3,
   "metadata": {
    "id": "vfuuf37lC8RS"
   },
   "outputs": [],
   "source": [
    "def merge_vocab(pair, v_in):\n",
    "    \"\"\"\n",
    "    Given a pair of characters and a vocabulary, returns a new vocabulary with the\n",
    "    pair of characters merged together wherever they appear.\n",
    "    \"\"\"\n",
    "    v_out = {}\n",
    "    bigram = re.escape(' '.join(pair))\n",
    "    p = re.compile(r'(?<!\\S)' + bigram + r'(?!\\S)')\n",
    "    for word in v_in:\n",
    "        w_out = p.sub(''.join(pair), word)\n",
    "        v_out[w_out] = v_in[word]\n",
    "    return v_out"
   ]
  },
  {
   "cell_type": "markdown",
   "metadata": {
    "id": "J_IE8ZGeKe9z"
   },
   "source": [
    "## Returns a dictionary of words mapping frequency in the provided string"
   ]
  },
  {
   "cell_type": "code",
   "execution_count": 4,
   "metadata": {
    "id": "DFv295v0C8fI"
   },
   "outputs": [],
   "source": [
    "def get_vocab(data):\n",
    "    \"\"\"\n",
    "    Given a list of strings, returns a dictionary of words mapping to their frequency\n",
    "    count in the data.\n",
    "    \"\"\"\n",
    "    vocab = defaultdict(int)\n",
    "    for line in data:\n",
    "        for word in line.split():\n",
    "            vocab[' '.join(list(word)) + ' </w>'] += 1\n",
    "    return vocab\n"
   ]
  },
  {
   "cell_type": "markdown",
   "metadata": {
    "id": "nquRUaaBK84-"
   },
   "source": [
    "# Byte pair encoding\n",
    "\n",
    "\n",
    "\n",
    "*   Take a string\n",
    "*   Find all the words in the string\n",
    "*   Loop 1 - vocubulary is all the individual characters that are present\n",
    "           - calculate the byte pair, i.e. pair of characters that occur together the most\n",
    "           - merge those two byte pair together to form a new character in the vocabulary\n",
    "           - add the character to that vocubulary\n",
    "           - now this vocubulary becomes the new vocubulary for lopp 2 and so on\n",
    "\n",
    "*  For encoding a string, we first separate the entire string into words.\n",
    "   - For each word, we find the largest subword that is possible\n",
    "   - Rest of the subword, we again try to find the largest possible subword and so on.\n",
    "\n",
    "   Check this [link](https://www.geeksforgeeks.org/byte-pair-encoding-bpe-in-nlp/) for more details.\n",
    "\n",
    "\n",
    "\n"
   ]
  },
  {
   "cell_type": "code",
   "execution_count": 5,
   "metadata": {
    "id": "Y2uXs9oQC8qn"
   },
   "outputs": [],
   "source": [
    "def byte_pair_encoding(data, n):\n",
    "  \"\"\"\n",
    "  Given a list of strings and an integer n, returns a list of n merged pairs\n",
    "  of characters found in the vocabulary of the input data.\n",
    "  \"\"\"\n",
    "  vocab = get_vocab(data)\n",
    "  for i in range(n):\n",
    "    print(f\"For Iteration: {i}\")\n",
    "    pairs = get_stats(vocab)\n",
    "    best = max(pairs, key=pairs.get)\n",
    "    print(best)\n",
    "    vocab = merge_vocab(best, vocab)\n",
    "  return vocab"
   ]
  },
  {
   "cell_type": "code",
   "execution_count": 6,
   "metadata": {
    "colab": {
     "base_uri": "https://localhost:8080/",
     "height": 0
    },
    "id": "6GSwMUBPDf2S",
    "outputId": "c706994c-d0a9-4035-e3dd-62f0149b0e1d"
   },
   "outputs": [
    {
     "name": "stdout",
     "output_type": "stream",
     "text": [
      "For Iteration: 0\n",
      "('a', '</w>')\n",
      "For Iteration: 1\n",
      "('D', 'a')\n",
      "For Iteration: 2\n",
      "('Da', 't')\n",
      "For Iteration: 3\n",
      "('Dat', 'a</w>')\n",
      "For Iteration: 4\n",
      "('s', 'c')\n",
      "For Iteration: 5\n",
      "('sc', 'i')\n",
      "For Iteration: 6\n",
      "('sci', 'e')\n",
      "For Iteration: 7\n",
      "('scie', 'n')\n",
      "For Iteration: 8\n",
      "('scien', 'c')\n",
      "For Iteration: 9\n",
      "('scienc', 'e')\n"
     ]
    },
    {
     "data": {
      "text/plain": [
       "{'Data</w>': 1,\n",
       " 'science </w>': 1,\n",
       " 'i s </w>': 1,\n",
       " 'a</w>': 1,\n",
       " 'c o o l </w>': 1,\n",
       " 's u b j e c t </w>': 1}"
      ]
     },
     "execution_count": 6,
     "metadata": {},
     "output_type": "execute_result"
    }
   ],
   "source": [
    "# Example usage:\n",
    "corpus = '''Data science is a cool subject'''\n",
    "data = corpus.split('.')\n",
    "\n",
    "n = 10\n",
    "bpe_pairs = byte_pair_encoding(data, n)\n",
    "bpe_pairs"
   ]
  },
  {
   "cell_type": "markdown",
   "metadata": {
    "id": "3O_4Rah8OdFQ"
   },
   "source": [
    "## So, here Data is a character in this vocubulary whereas for cool it breaks into \"c\" + \"o\" + \"o\" + \"l\", because none of the combinations of \"c\", \"o\",\"l\" exists in the vocubulary yet."
   ]
  },
  {
   "cell_type": "code",
   "execution_count": 8,
   "metadata": {
    "id": "TXW-82rYOSkY"
   },
   "outputs": [],
   "source": [
    "def byte_pair_encoding(data, n):\n",
    "  \"\"\"\n",
    "  Given a list of strings and an integer n, returns a list of n merged pairs\n",
    "  of characters found in the vocabulary of the input data.\n",
    "  \"\"\"\n",
    "  vocab = get_vocab(data)\n",
    "  for i in range(n):\n",
    "#     print(f\"For Iteration: {i}\")\n",
    "    pairs = get_stats(vocab)\n",
    "    best = max(pairs, key=pairs.get)\n",
    "#     print(best)\n",
    "    vocab = merge_vocab(best, vocab)\n",
    "  return vocab"
   ]
  },
  {
   "cell_type": "code",
   "execution_count": 14,
   "metadata": {},
   "outputs": [
    {
     "data": {
      "text/plain": [
       "{'Data</w>': 1,\n",
       " 'science</w>': 1,\n",
       " 'is</w>': 1,\n",
       " 'a</w>': 1,\n",
       " 'cool</w>': 1,\n",
       " 'subj e c t </w>': 1}"
      ]
     },
     "execution_count": 14,
     "metadata": {},
     "output_type": "execute_result"
    }
   ],
   "source": [
    "# Example usage:\n",
    "corpus = '''Data science is a cool subject'''\n",
    "data = corpus.split('.')\n",
    "\n",
    "n = 20\n",
    "bpe_pairs = byte_pair_encoding(data, n)\n",
    "bpe_pairs"
   ]
  },
  {
   "cell_type": "markdown",
   "metadata": {},
   "source": [
    "## But if we run for more loops, we can see here that cool now becomes a character in the vocubulary."
   ]
  },
  {
   "cell_type": "markdown",
   "metadata": {},
   "source": [
    "## So, goal is to optimise the subword characters that should be present in the vocubulary by optimising the number of loops"
   ]
  },
  {
   "cell_type": "code",
   "execution_count": null,
   "metadata": {},
   "outputs": [],
   "source": []
  }
 ],
 "metadata": {
  "colab": {
   "provenance": []
  },
  "kernelspec": {
   "display_name": "Python 3 (ipykernel)",
   "language": "python",
   "name": "python3"
  },
  "language_info": {
   "codemirror_mode": {
    "name": "ipython",
    "version": 3
   },
   "file_extension": ".py",
   "mimetype": "text/x-python",
   "name": "python",
   "nbconvert_exporter": "python",
   "pygments_lexer": "ipython3",
   "version": "3.11.4"
  }
 },
 "nbformat": 4,
 "nbformat_minor": 1
}
